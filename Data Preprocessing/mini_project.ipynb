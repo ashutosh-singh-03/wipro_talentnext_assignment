{
 "cells": [
  {
   "cell_type": "markdown",
   "id": "794af4b0",
   "metadata": {},
   "source": [
    "### 1. Import Required Libraries\n",
    "We start by importing pandas, which is used for data manipulation and analysis."
   ]
  },
  {
   "cell_type": "code",
   "execution_count": 1,
   "id": "df2cca0f",
   "metadata": {},
   "outputs": [],
   "source": [
    "import pandas as pd"
   ]
  },
  {
   "cell_type": "markdown",
   "id": "94776626",
   "metadata": {},
   "source": [
    "### 2. Load the Data\n",
    "Read the CSV file into a pandas DataFrame. We use `low_memory=False` to avoid type warnings."
   ]
  },
  {
   "cell_type": "code",
   "execution_count": 2,
   "id": "fdc10f83",
   "metadata": {},
   "outputs": [
    {
     "name": "stdout",
     "output_type": "stream",
     "text": [
      "Step 1: Loaded data\n",
      "Shape: (34857, 22)\n",
      "         Suburb           Address  Rooms Type Method        SellerG      Date  \\\n",
      "0    Abbotsford     68 Studley St      2    h     SS         Jellis  3/9/2016   \n",
      "1  Airport West     154 Halsey Rd      3    t     PI         Nelson  3/9/2016   \n",
      "2   Albert Park    105 Kerferd Rd      2    h      S  hockingstuart  3/9/2016   \n",
      "3   Albert Park  85 Richardson St      2    h      S        Thomson  3/9/2016   \n",
      "4    Alphington      30 Austin St      3    h     SN        McGrath  3/9/2016   \n",
      "\n",
      "   Distance  Postcode  Bedroom  ...  Landsize  BuildingArea  YearBuilt  \\\n",
      "0       2.5    3067.0      2.0  ...     126.0           inf        NaN   \n",
      "1      13.5    3042.0      3.0  ...     303.0           225     2016.0   \n",
      "2       3.3    3206.0      2.0  ...     120.0            82     1900.0   \n",
      "3       3.3    3206.0      2.0  ...     159.0           inf        NaN   \n",
      "4       6.4    3078.0      3.0  ...     174.0           122     2003.0   \n",
      "\n",
      "                  CouncilArea  Latitude Longtitude             Regionname  \\\n",
      "0          Yarra City Council  -37.8014   144.9958  Northern Metropolitan   \n",
      "1  Moonee Valley City Council  -37.7180   144.8780   Western Metropolitan   \n",
      "2   Port Phillip City Council  -37.8459   144.9555  Southern Metropolitan   \n",
      "3   Port Phillip City Council  -37.8450   144.9538  Southern Metropolitan   \n",
      "4        Darebin City Council  -37.7818   145.0198  Northern Metropolitan   \n",
      "\n",
      "   Propertycount      ParkingArea      Price  \n",
      "0         4019.0          Carport        NaN  \n",
      "1         3464.0  Detached Garage   840000.0  \n",
      "2         3280.0  Attached Garage  1275000.0  \n",
      "3         3280.0           Indoor  1455000.0  \n",
      "4         2211.0          Parkade        NaN  \n",
      "\n",
      "[5 rows x 22 columns] \n",
      "\n"
     ]
    }
   ],
   "source": [
    "house_data = pd.read_csv(\"melb_data.csv\", low_memory=False)\n",
    "print(\"Step 1: Loaded data\")\n",
    "print(\"Shape:\", house_data.shape)\n",
    "print(house_data.head(), \"\\n\")"
   ]
  },
  {
   "cell_type": "markdown",
   "id": "0f1a93e7",
   "metadata": {},
   "source": [
    "### 3. Check and Remove Duplicate Rows\n",
    "Find out how many duplicate rows exist and remove them."
   ]
  },
  {
   "cell_type": "code",
   "execution_count": 3,
   "id": "f12dce87",
   "metadata": {},
   "outputs": [
    {
     "name": "stdout",
     "output_type": "stream",
     "text": [
      "Step 2: Number of duplicate rows: 0\n",
      "Step 2: After removing duplicates\n",
      "Shape: (34857, 22)\n",
      "         Suburb           Address  Rooms Type Method        SellerG      Date  \\\n",
      "0    Abbotsford     68 Studley St      2    h     SS         Jellis  3/9/2016   \n",
      "1  Airport West     154 Halsey Rd      3    t     PI         Nelson  3/9/2016   \n",
      "2   Albert Park    105 Kerferd Rd      2    h      S  hockingstuart  3/9/2016   \n",
      "3   Albert Park  85 Richardson St      2    h      S        Thomson  3/9/2016   \n",
      "4    Alphington      30 Austin St      3    h     SN        McGrath  3/9/2016   \n",
      "\n",
      "   Distance  Postcode  Bedroom  ...  Landsize  BuildingArea  YearBuilt  \\\n",
      "0       2.5    3067.0      2.0  ...     126.0           inf        NaN   \n",
      "1      13.5    3042.0      3.0  ...     303.0           225     2016.0   \n",
      "2       3.3    3206.0      2.0  ...     120.0            82     1900.0   \n",
      "3       3.3    3206.0      2.0  ...     159.0           inf        NaN   \n",
      "4       6.4    3078.0      3.0  ...     174.0           122     2003.0   \n",
      "\n",
      "                  CouncilArea  Latitude Longtitude             Regionname  \\\n",
      "0          Yarra City Council  -37.8014   144.9958  Northern Metropolitan   \n",
      "1  Moonee Valley City Council  -37.7180   144.8780   Western Metropolitan   \n",
      "2   Port Phillip City Council  -37.8459   144.9555  Southern Metropolitan   \n",
      "3   Port Phillip City Council  -37.8450   144.9538  Southern Metropolitan   \n",
      "4        Darebin City Council  -37.7818   145.0198  Northern Metropolitan   \n",
      "\n",
      "   Propertycount      ParkingArea      Price  \n",
      "0         4019.0          Carport        NaN  \n",
      "1         3464.0  Detached Garage   840000.0  \n",
      "2         3280.0  Attached Garage  1275000.0  \n",
      "3         3280.0           Indoor  1455000.0  \n",
      "4         2211.0          Parkade        NaN  \n",
      "\n",
      "[5 rows x 22 columns] \n",
      "\n"
     ]
    }
   ],
   "source": [
    "num_duplicates = house_data.duplicated().sum()\n",
    "print(f\"Step 2: Number of duplicate rows: {num_duplicates}\")\n",
    "house_data = house_data.drop_duplicates()\n",
    "print(\"Step 2: After removing duplicates\")\n",
    "print(\"Shape:\", house_data.shape)\n",
    "print(house_data.head(), \"\\n\")"
   ]
  },
  {
   "cell_type": "markdown",
   "id": "3ea07bf6",
   "metadata": {},
   "source": [
    "### 4. Check and Remove Negative Prices\n",
    "If the 'Price' column exists, count and remove rows with negative or zero prices."
   ]
  },
  {
   "cell_type": "code",
   "execution_count": 4,
   "id": "bc52d965",
   "metadata": {},
   "outputs": [
    {
     "name": "stdout",
     "output_type": "stream",
     "text": [
      "Step 3: Number of rows with negative prices: 0\n",
      "Step 3: After removing negative prices\n",
      "Shape: (27247, 22)\n",
      "         Suburb           Address  Rooms Type Method        SellerG      Date  \\\n",
      "1  Airport West     154 Halsey Rd      3    t     PI         Nelson  3/9/2016   \n",
      "2   Albert Park    105 Kerferd Rd      2    h      S  hockingstuart  3/9/2016   \n",
      "3   Albert Park  85 Richardson St      2    h      S        Thomson  3/9/2016   \n",
      "5    Alphington        6 Smith St      4    h      S          Brace  3/9/2016   \n",
      "6    Alphington   5/6 Yarralea St      3    h      S         Jellis  3/9/2016   \n",
      "\n",
      "   Distance  Postcode  Bedroom  ...  Landsize  BuildingArea  YearBuilt  \\\n",
      "1      13.5    3042.0      3.0  ...     303.0           225     2016.0   \n",
      "2       3.3    3206.0      2.0  ...     120.0            82     1900.0   \n",
      "3       3.3    3206.0      2.0  ...     159.0           inf        NaN   \n",
      "5       6.4    3078.0      3.0  ...     853.0           263     1930.0   \n",
      "6       6.4    3078.0      3.0  ...     208.0           inf     2013.0   \n",
      "\n",
      "                  CouncilArea  Latitude Longtitude             Regionname  \\\n",
      "1  Moonee Valley City Council  -37.7180   144.8780   Western Metropolitan   \n",
      "2   Port Phillip City Council  -37.8459   144.9555  Southern Metropolitan   \n",
      "3   Port Phillip City Council  -37.8450   144.9538  Southern Metropolitan   \n",
      "5        Darebin City Council  -37.7707   145.0318  Northern Metropolitan   \n",
      "6        Darebin City Council  -37.7854   145.0325  Northern Metropolitan   \n",
      "\n",
      "   Propertycount      ParkingArea      Price  \n",
      "1         3464.0  Detached Garage   840000.0  \n",
      "2         3280.0  Attached Garage  1275000.0  \n",
      "3         3280.0           Indoor  1455000.0  \n",
      "5         2211.0      Underground  2000000.0  \n",
      "6         2211.0    Outdoor Stall  1110000.0  \n",
      "\n",
      "[5 rows x 22 columns] \n",
      "\n"
     ]
    }
   ],
   "source": [
    "if 'Price' in house_data.columns:\n",
    "    num_negative_prices = (house_data['Price'] <= 0).sum()\n",
    "    print(f\"Step 3: Number of rows with negative prices: {num_negative_prices}\")\n",
    "    house_data = house_data[house_data['Price'] > 0]\n",
    "    print(\"Step 3: After removing negative prices\")\n",
    "    print(\"Shape:\", house_data.shape)\n",
    "    print(house_data.head(), \"\\n\")"
   ]
  },
  {
   "cell_type": "markdown",
   "id": "59c21b31",
   "metadata": {},
   "source": [
    "### 5. Check and Handle Missing Data\n",
    "Count missing values in each column and fill them with median (numeric) or mode (categorical)."
   ]
  },
  {
   "cell_type": "code",
   "execution_count": 5,
   "id": "89fbfd7d",
   "metadata": {},
   "outputs": [
    {
     "name": "stdout",
     "output_type": "stream",
     "text": [
      "Step 4: Number of missing values in each column before filling:\n",
      "Distance             1\n",
      "Postcode             1\n",
      "Bedroom           6441\n",
      "Bathroom          6447\n",
      "Car               6824\n",
      "Landsize          9265\n",
      "BuildingArea     16577\n",
      "YearBuilt        15163\n",
      "CouncilArea          3\n",
      "Latitude          6254\n",
      "Longtitude        6254\n",
      "Propertycount        3\n",
      "dtype: int64\n",
      "Step 4: After handling missing data\n",
      "Shape: (27247, 22)\n",
      "         Suburb           Address  Rooms Type Method        SellerG      Date  \\\n",
      "1  Airport West     154 Halsey Rd      3    t     PI         Nelson  3/9/2016   \n",
      "2   Albert Park    105 Kerferd Rd      2    h      S  hockingstuart  3/9/2016   \n",
      "3   Albert Park  85 Richardson St      2    h      S        Thomson  3/9/2016   \n",
      "5    Alphington        6 Smith St      4    h      S          Brace  3/9/2016   \n",
      "6    Alphington   5/6 Yarralea St      3    h      S         Jellis  3/9/2016   \n",
      "\n",
      "   Distance  Postcode  Bedroom  ...  Landsize  BuildingArea  YearBuilt  \\\n",
      "1      13.5    3042.0      3.0  ...     303.0           225     2016.0   \n",
      "2       3.3    3206.0      2.0  ...     120.0            82     1900.0   \n",
      "3       3.3    3206.0      2.0  ...     159.0           inf     1970.0   \n",
      "5       6.4    3078.0      3.0  ...     853.0           263     1930.0   \n",
      "6       6.4    3078.0      3.0  ...     208.0           inf     2013.0   \n",
      "\n",
      "                  CouncilArea  Latitude Longtitude             Regionname  \\\n",
      "1  Moonee Valley City Council  -37.7180   144.8780   Western Metropolitan   \n",
      "2   Port Phillip City Council  -37.8459   144.9555  Southern Metropolitan   \n",
      "3   Port Phillip City Council  -37.8450   144.9538  Southern Metropolitan   \n",
      "5        Darebin City Council  -37.7707   145.0318  Northern Metropolitan   \n",
      "6        Darebin City Council  -37.7854   145.0325  Northern Metropolitan   \n",
      "\n",
      "   Propertycount      ParkingArea      Price  \n",
      "1         3464.0  Detached Garage   840000.0  \n",
      "2         3280.0  Attached Garage  1275000.0  \n",
      "3         3280.0           Indoor  1455000.0  \n",
      "5         2211.0      Underground  2000000.0  \n",
      "6         2211.0    Outdoor Stall  1110000.0  \n",
      "\n",
      "[5 rows x 22 columns] \n",
      "\n"
     ]
    }
   ],
   "source": [
    "missing_counts = house_data.isnull().sum()\n",
    "print(\"Step 4: Number of missing values in each column before filling:\")\n",
    "print(missing_counts[missing_counts > 0])\n",
    "for column in house_data.columns:\n",
    "    if house_data[column].dtype == 'O':  # 'O' for object\n",
    "        mode_value = house_data[column].mode()[0]\n",
    "        house_data[column] = house_data[column].fillna(mode_value)\n",
    "    else:\n",
    "        median_value = house_data[column].median()\n",
    "        house_data[column] = house_data[column].fillna(median_value)\n",
    "print(\"Step 4: After handling missing data\")\n",
    "print(\"Shape:\", house_data.shape)\n",
    "print(house_data.head(), \"\\n\")"
   ]
  },
  {
   "cell_type": "markdown",
   "id": "4af8a5b3",
   "metadata": {},
   "source": [
    "### 6. Check and Handle Categorical Data\n",
    "Find categorical columns and encode them using one-hot encoding."
   ]
  },
  {
   "cell_type": "code",
   "execution_count": 6,
   "id": "c7a54122",
   "metadata": {},
   "outputs": [
    {
     "name": "stdout",
     "output_type": "stream",
     "text": [
      "Step 5: Number of categorical columns: 10\n",
      "Categorical columns: ['Suburb', 'Address', 'Type', 'Method', 'SellerG', 'Date', 'BuildingArea', 'CouncilArea', 'Regionname', 'ParkingArea']\n",
      "Step 5: After encoding categorical data\n",
      "Shape: (27247, 28246)\n",
      "   Rooms  Distance  Postcode  Bedroom  Bathroom  Car  Landsize  YearBuilt  \\\n",
      "1      3      13.5    3042.0      3.0       2.0  1.0     303.0     2016.0   \n",
      "2      2       3.3    3206.0      2.0       1.0  0.0     120.0     1900.0   \n",
      "3      2       3.3    3206.0      2.0       1.0  0.0     159.0     1970.0   \n",
      "5      4       6.4    3078.0      3.0       2.0  4.0     853.0     1930.0   \n",
      "6      3       6.4    3078.0      3.0       2.0  2.0     208.0     2013.0   \n",
      "\n",
      "   Latitude  Longtitude  ...  Regionname_Southern Metropolitan  \\\n",
      "1  -37.7180    144.8780  ...                             False   \n",
      "2  -37.8459    144.9555  ...                              True   \n",
      "3  -37.8450    144.9538  ...                              True   \n",
      "5  -37.7707    145.0318  ...                             False   \n",
      "6  -37.7854    145.0325  ...                             False   \n",
      "\n",
      "   Regionname_Western Metropolitan  Regionname_Western Victoria  \\\n",
      "1                             True                        False   \n",
      "2                            False                        False   \n",
      "3                            False                        False   \n",
      "5                            False                        False   \n",
      "6                            False                        False   \n",
      "\n",
      "   ParkingArea_Carport  ParkingArea_Detached Garage  ParkingArea_Indoor  \\\n",
      "1                False                         True               False   \n",
      "2                False                        False               False   \n",
      "3                False                        False                True   \n",
      "5                False                        False               False   \n",
      "6                False                        False               False   \n",
      "\n",
      "   ParkingArea_Outdoor Stall  ParkingArea_Parkade  ParkingArea_Parking Pad  \\\n",
      "1                      False                False                    False   \n",
      "2                      False                False                    False   \n",
      "3                      False                False                    False   \n",
      "5                      False                False                    False   \n",
      "6                       True                False                    False   \n",
      "\n",
      "   ParkingArea_Underground  \n",
      "1                    False  \n",
      "2                    False  \n",
      "3                    False  \n",
      "5                     True  \n",
      "6                    False  \n",
      "\n",
      "[5 rows x 28246 columns] \n",
      "\n"
     ]
    }
   ],
   "source": [
    "categorical_columns = house_data.select_dtypes(include=['object']).columns\n",
    "print(f\"Step 5: Number of categorical columns: {len(categorical_columns)}\")\n",
    "print(\"Categorical columns:\", list(categorical_columns))\n",
    "house_data = pd.get_dummies(house_data, columns=categorical_columns, drop_first=True)\n",
    "print(\"Step 5: After encoding categorical data\")\n",
    "print(\"Shape:\", house_data.shape)\n",
    "print(house_data.head(), \"\\n\")"
   ]
  }
 ],
 "metadata": {
  "kernelspec": {
   "display_name": ".venv",
   "language": "python",
   "name": "python3"
  },
  "language_info": {
   "codemirror_mode": {
    "name": "ipython",
    "version": 3
   },
   "file_extension": ".py",
   "mimetype": "text/x-python",
   "name": "python",
   "nbconvert_exporter": "python",
   "pygments_lexer": "ipython3",
   "version": "3.13.6"
  }
 },
 "nbformat": 4,
 "nbformat_minor": 5
}

{
 "cells": [
  {
   "cell_type": "markdown",
   "id": "794af4b0",
   "metadata": {},
   "source": [
    "### 1. Import Required Libraries\n",
    "We start by importing pandas, which is used for data manipulation and analysis."
   ]
  },
  {
   "cell_type": "code",
   "execution_count": null,
   "id": "df2cca0f",
   "metadata": {},
   "outputs": [],
   "source": [
    "import pandas as pd"
   ]
  },
  {
   "cell_type": "markdown",
   "id": "94776626",
   "metadata": {},
   "source": [
    "### 2. Load the Data\n",
    "Read the CSV file into a pandas DataFrame. We use `low_memory=False` to avoid type warnings."
   ]
  },
  {
   "cell_type": "code",
   "execution_count": null,
   "id": "fdc10f83",
   "metadata": {},
   "outputs": [],
   "source": [
    "house_data = pd.read_csv(\"dataset/melb_data.csv\", low_memory=False)\n",
    "print(\"Step 1: Loaded data\")\n",
    "print(\"Shape:\", house_data.shape)\n",
    "print(house_data.head(), \"\\n\")"
   ]
  },
  {
   "cell_type": "markdown",
   "id": "0f1a93e7",
   "metadata": {},
   "source": [
    "### 3. Check and Remove Duplicate Rows\n",
    "Find out how many duplicate rows exist and remove them."
   ]
  },
  {
   "cell_type": "code",
   "execution_count": null,
   "id": "f12dce87",
   "metadata": {},
   "outputs": [],
   "source": [
    "num_duplicates = house_data.duplicated().sum()\n",
    "print(f\"Step 2: Number of duplicate rows: {num_duplicates}\")\n",
    "house_data = house_data.drop_duplicates()\n",
    "print(\"Step 2: After removing duplicates\")\n",
    "print(\"Shape:\", house_data.shape)\n",
    "print(house_data.head(), \"\\n\")"
   ]
  },
  {
   "cell_type": "markdown",
   "id": "3ea07bf6",
   "metadata": {},
   "source": [
    "### 4. Check and Remove Negative Prices\n",
    "If the 'Price' column exists, count and remove rows with negative or zero prices."
   ]
  },
  {
   "cell_type": "code",
   "execution_count": null,
   "id": "bc52d965",
   "metadata": {},
   "outputs": [],
   "source": [
    "if 'Price' in house_data.columns:\n",
    "    num_negative_prices = (house_data['Price'] <= 0).sum()\n",
    "    print(f\"Step 3: Number of rows with negative prices: {num_negative_prices}\")\n",
    "    house_data = house_data[house_data['Price'] > 0]\n",
    "    print(\"Step 3: After removing negative prices\")\n",
    "    print(\"Shape:\", house_data.shape)\n",
    "    print(house_data.head(), \"\\n\")"
   ]
  },
  {
   "cell_type": "markdown",
   "id": "59c21b31",
   "metadata": {},
   "source": [
    "### 5. Check and Handle Missing Data\n",
    "Count missing values in each column and fill them with median (numeric) or mode (categorical)."
   ]
  },
  {
   "cell_type": "code",
   "execution_count": null,
   "id": "89fbfd7d",
   "metadata": {},
   "outputs": [],
   "source": [
    "missing_counts = house_data.isnull().sum()\n",
    "print(\"Step 4: Number of missing values in each column before filling:\")\n",
    "print(missing_counts[missing_counts > 0])\n",
    "for column in house_data.columns:\n",
    "    if house_data[column].dtype == 'O':  # 'O' for object\n",
    "        mode_value = house_data[column].mode()[0]\n",
    "        house_data[column] = house_data[column].fillna(mode_value)\n",
    "    else:\n",
    "        median_value = house_data[column].median()\n",
    "        house_data[column] = house_data[column].fillna(median_value)\n",
    "print(\"Step 4: After handling missing data\")\n",
    "print(\"Shape:\", house_data.shape)\n",
    "print(house_data.head(), \"\\n\")"
   ]
  },
  {
   "cell_type": "markdown",
   "id": "4af8a5b3",
   "metadata": {},
   "source": [
    "### 6. Check and Handle Categorical Data\n",
    "Find categorical columns and encode them using one-hot encoding."
   ]
  },
  {
   "cell_type": "code",
   "execution_count": null,
   "id": "c7a54122",
   "metadata": {},
   "outputs": [],
   "source": [
    "categorical_columns = house_data.select_dtypes(include=['object']).columns\n",
    "print(f\"Step 5: Number of categorical columns: {len(categorical_columns)}\")\n",
    "print(\"Categorical columns:\", list(categorical_columns))\n",
    "house_data = pd.get_dummies(house_data, columns=categorical_columns, drop_first=True)\n",
    "print(\"Step 5: After encoding categorical data\")\n",
    "print(\"Shape:\", house_data.shape)\n",
    "print(house_data.head(), \"\\n\")"
   ]
  }
 ],
 "metadata": {
  "language_info": {
   "name": "python"
  }
 },
 "nbformat": 4,
 "nbformat_minor": 5
}

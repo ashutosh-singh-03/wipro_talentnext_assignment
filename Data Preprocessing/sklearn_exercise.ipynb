{
 "cells": [
  {
   "cell_type": "code",
   "execution_count": 7,
   "id": "b2ca1097",
   "metadata": {},
   "outputs": [],
   "source": [
    "# Import required libraries\n",
    "import pandas as pd\n",
    "import numpy as np\n",
    "from sklearn.impute import SimpleImputer"
   ]
  },
  {
   "cell_type": "code",
   "execution_count": 8,
   "id": "5f1ab25d",
   "metadata": {},
   "outputs": [
    {
     "name": "stdout",
     "output_type": "stream",
     "text": [
      "         Suburb           Address  Rooms Type Method        SellerG      Date  \\\n",
      "0    Abbotsford     68 Studley St      2    h     SS         Jellis  3/9/2016   \n",
      "1  Airport West     154 Halsey Rd      3    t     PI         Nelson  3/9/2016   \n",
      "2   Albert Park    105 Kerferd Rd      2    h      S  hockingstuart  3/9/2016   \n",
      "3   Albert Park  85 Richardson St      2    h      S        Thomson  3/9/2016   \n",
      "4    Alphington      30 Austin St      3    h     SN        McGrath  3/9/2016   \n",
      "\n",
      "   Distance  Postcode  Bedroom  ...  Landsize  BuildingArea  YearBuilt  \\\n",
      "0       2.5    3067.0      2.0  ...     126.0           inf        NaN   \n",
      "1      13.5    3042.0      3.0  ...     303.0           225     2016.0   \n",
      "2       3.3    3206.0      2.0  ...     120.0            82     1900.0   \n",
      "3       3.3    3206.0      2.0  ...     159.0           inf        NaN   \n",
      "4       6.4    3078.0      3.0  ...     174.0           122     2003.0   \n",
      "\n",
      "                  CouncilArea  Latitude Longtitude             Regionname  \\\n",
      "0          Yarra City Council  -37.8014   144.9958  Northern Metropolitan   \n",
      "1  Moonee Valley City Council  -37.7180   144.8780   Western Metropolitan   \n",
      "2   Port Phillip City Council  -37.8459   144.9555  Southern Metropolitan   \n",
      "3   Port Phillip City Council  -37.8450   144.9538  Southern Metropolitan   \n",
      "4        Darebin City Council  -37.7818   145.0198  Northern Metropolitan   \n",
      "\n",
      "   Propertycount      ParkingArea      Price  \n",
      "0         4019.0          Carport        NaN  \n",
      "1         3464.0  Detached Garage   840000.0  \n",
      "2         3280.0  Attached Garage  1275000.0  \n",
      "3         3280.0           Indoor  1455000.0  \n",
      "4         2211.0          Parkade        NaN  \n",
      "\n",
      "[5 rows x 22 columns]\n"
     ]
    },
    {
     "name": "stderr",
     "output_type": "stream",
     "text": [
      "C:\\Users\\ashut\\AppData\\Local\\Temp\\ipykernel_10172\\2942900088.py:2: DtypeWarning: Columns (13) have mixed types. Specify dtype option on import or set low_memory=False.\n",
      "  data = pd.read_csv('melb_data.csv')\n"
     ]
    }
   ],
   "source": [
    "# Load the Melbourne housing dataset\n",
    "data = pd.read_csv('melb_data.csv')\n",
    "# Show the first 5 rows of the data\n",
    "print(data.head())"
   ]
  },
  {
   "cell_type": "code",
   "execution_count": 9,
   "id": "1a71930e",
   "metadata": {},
   "outputs": [
    {
     "name": "stdout",
     "output_type": "stream",
     "text": [
      "              Rooms      Distance      Postcode       Bedroom      Bathroom  \\\n",
      "count  34857.000000  34856.000000  34856.000000  26640.000000  26631.000000   \n",
      "mean       3.031012     11.184929   3116.062859      3.084647      1.624798   \n",
      "std        0.969933      6.788892    109.023903      0.980690      0.724212   \n",
      "min        1.000000      0.000000   3000.000000      0.000000      0.000000   \n",
      "25%        2.000000      6.400000   3051.000000      2.000000      1.000000   \n",
      "50%        3.000000     10.300000   3103.000000      3.000000      2.000000   \n",
      "75%        4.000000     14.000000   3156.000000      4.000000      2.000000   \n",
      "max       16.000000     48.100000   3978.000000     30.000000     12.000000   \n",
      "\n",
      "                Car       Landsize     YearBuilt      Latitude    Longtitude  \\\n",
      "count  26129.000000   23047.000000  15551.000000  26881.000000  26881.000000   \n",
      "mean       1.728845     593.598993   1965.289885    -37.810634    145.001851   \n",
      "std        1.010771    3398.841946     37.328178      0.090279      0.120169   \n",
      "min        0.000000       0.000000   1196.000000    -38.190430    144.423790   \n",
      "25%        1.000000     224.000000   1940.000000    -37.862950    144.933500   \n",
      "50%        2.000000     521.000000   1970.000000    -37.807600    145.007800   \n",
      "75%        2.000000     670.000000   2000.000000    -37.754100    145.071900   \n",
      "max       26.000000  433014.000000   2106.000000    -37.390200    145.526350   \n",
      "\n",
      "       Propertycount         Price  \n",
      "count   34854.000000  2.724700e+04  \n",
      "mean     7572.888306  1.050173e+06  \n",
      "std      4428.090313  6.414671e+05  \n",
      "min        83.000000  8.500000e+04  \n",
      "25%      4385.000000  6.350000e+05  \n",
      "50%      6763.000000  8.700000e+05  \n",
      "75%     10412.000000  1.295000e+06  \n",
      "max     21650.000000  1.120000e+07  \n",
      "Suburb               0\n",
      "Address              0\n",
      "Rooms                0\n",
      "Type                 0\n",
      "Method               0\n",
      "SellerG              0\n",
      "Date                 0\n",
      "Distance             1\n",
      "Postcode             1\n",
      "Bedroom           8217\n",
      "Bathroom          8226\n",
      "Car               8728\n",
      "Landsize         11810\n",
      "BuildingArea     21097\n",
      "YearBuilt        19306\n",
      "CouncilArea          3\n",
      "Latitude          7976\n",
      "Longtitude        7976\n",
      "Regionname           0\n",
      "Propertycount        3\n",
      "ParkingArea          0\n",
      "Price             7610\n",
      "dtype: int64\n"
     ]
    }
   ],
   "source": [
    "# Show basic statistics for each column\n",
    "print(data.describe())\n",
    "# Check for missing values in each column\n",
    "print(data.isnull().sum())"
   ]
  },
  {
   "cell_type": "code",
   "execution_count": 10,
   "id": "78cc3620",
   "metadata": {},
   "outputs": [
    {
     "name": "stdout",
     "output_type": "stream",
     "text": [
      "Number columns: ['Rooms', 'Distance', 'Postcode', 'Bedroom', 'Bathroom', 'Car', 'Landsize', 'YearBuilt', 'Latitude', 'Longtitude', 'Propertycount', 'Price']\n",
      "Text columns: ['Suburb', 'Address', 'Type', 'Method', 'SellerG', 'Date', 'BuildingArea', 'CouncilArea', 'Regionname', 'ParkingArea']\n"
     ]
    }
   ],
   "source": [
    "# Find columns with numbers and columns with text\n",
    "num_cols = data.select_dtypes(include=['int64', 'float64']).columns.tolist()\n",
    "cat_cols = data.select_dtypes(include=['object']).columns.tolist()\n",
    "print('Number columns:', num_cols)\n",
    "print('Text columns:', cat_cols)"
   ]
  },
  {
   "cell_type": "code",
   "execution_count": 11,
   "id": "a7546b62",
   "metadata": {},
   "outputs": [
    {
     "name": "stdout",
     "output_type": "stream",
     "text": [
      "         Suburb           Address  Rooms Type Method        SellerG      Date  \\\n",
      "0    Abbotsford     68 Studley St    2.0    h     SS         Jellis  3/9/2016   \n",
      "1  Airport West     154 Halsey Rd    3.0    t     PI         Nelson  3/9/2016   \n",
      "2   Albert Park    105 Kerferd Rd    2.0    h      S  hockingstuart  3/9/2016   \n",
      "3   Albert Park  85 Richardson St    2.0    h      S        Thomson  3/9/2016   \n",
      "4    Alphington      30 Austin St    3.0    h     SN        McGrath  3/9/2016   \n",
      "\n",
      "   Distance  Postcode  Bedroom  ...  Landsize  BuildingArea    YearBuilt  \\\n",
      "0       2.5    3067.0      2.0  ...     126.0           inf  1965.289885   \n",
      "1      13.5    3042.0      3.0  ...     303.0           225  2016.000000   \n",
      "2       3.3    3206.0      2.0  ...     120.0            82  1900.000000   \n",
      "3       3.3    3206.0      2.0  ...     159.0           inf  1965.289885   \n",
      "4       6.4    3078.0      3.0  ...     174.0           122  2003.000000   \n",
      "\n",
      "                  CouncilArea  Latitude Longtitude             Regionname  \\\n",
      "0          Yarra City Council  -37.8014   144.9958  Northern Metropolitan   \n",
      "1  Moonee Valley City Council  -37.7180   144.8780   Western Metropolitan   \n",
      "2   Port Phillip City Council  -37.8459   144.9555  Southern Metropolitan   \n",
      "3   Port Phillip City Council  -37.8450   144.9538  Southern Metropolitan   \n",
      "4        Darebin City Council  -37.7818   145.0198  Northern Metropolitan   \n",
      "\n",
      "   Propertycount      ParkingArea         Price  \n",
      "0         4019.0          Carport  1.050173e+06  \n",
      "1         3464.0  Detached Garage  8.400000e+05  \n",
      "2         3280.0  Attached Garage  1.275000e+06  \n",
      "3         3280.0           Indoor  1.455000e+06  \n",
      "4         2211.0          Parkade  1.050173e+06  \n",
      "\n",
      "[5 rows x 22 columns]\n"
     ]
    }
   ],
   "source": [
    "# Fill missing values in number columns with the average value\n",
    "imputer = SimpleImputer(strategy='mean')\n",
    "data[num_cols] = imputer.fit_transform(data[num_cols])\n",
    "# Show the updated data\n",
    "print(data.head())"
   ]
  }
 ],
 "metadata": {
  "kernelspec": {
   "display_name": ".venv",
   "language": "python",
   "name": "python3"
  },
  "language_info": {
   "codemirror_mode": {
    "name": "ipython",
    "version": 3
   },
   "file_extension": ".py",
   "mimetype": "text/x-python",
   "name": "python",
   "nbconvert_exporter": "python",
   "pygments_lexer": "ipython3",
   "version": "3.13.6"
  }
 },
 "nbformat": 4,
 "nbformat_minor": 5
}

{
 "cells": [
  {
   "cell_type": "code",
   "execution_count": 4,
   "id": "eace9c20",
   "metadata": {},
   "outputs": [
    {
     "name": "stderr",
     "output_type": "stream",
     "text": [
      "C:\\Users\\ashut\\AppData\\Local\\Temp\\ipykernel_30284\\1317453566.py:3: DtypeWarning: Columns (13) have mixed types. Specify dtype option on import or set low_memory=False.\n",
      "  data = pd.read_csv('melb_data.csv')\n"
     ]
    },
    {
     "data": {
      "application/vnd.microsoft.datawrangler.viewer.v0+json": {
       "columns": [
        {
         "name": "index",
         "rawType": "int64",
         "type": "integer"
        },
        {
         "name": "Suburb",
         "rawType": "object",
         "type": "string"
        },
        {
         "name": "Address",
         "rawType": "object",
         "type": "string"
        },
        {
         "name": "Rooms",
         "rawType": "int64",
         "type": "integer"
        },
        {
         "name": "Type",
         "rawType": "object",
         "type": "string"
        },
        {
         "name": "Method",
         "rawType": "object",
         "type": "string"
        },
        {
         "name": "SellerG",
         "rawType": "object",
         "type": "string"
        },
        {
         "name": "Date",
         "rawType": "object",
         "type": "string"
        },
        {
         "name": "Distance",
         "rawType": "float64",
         "type": "float"
        },
        {
         "name": "Postcode",
         "rawType": "float64",
         "type": "float"
        },
        {
         "name": "Bedroom",
         "rawType": "float64",
         "type": "float"
        },
        {
         "name": "Bathroom",
         "rawType": "float64",
         "type": "float"
        },
        {
         "name": "Car",
         "rawType": "float64",
         "type": "float"
        },
        {
         "name": "Landsize",
         "rawType": "float64",
         "type": "float"
        },
        {
         "name": "BuildingArea",
         "rawType": "object",
         "type": "string"
        },
        {
         "name": "YearBuilt",
         "rawType": "float64",
         "type": "float"
        },
        {
         "name": "CouncilArea",
         "rawType": "object",
         "type": "string"
        },
        {
         "name": "Latitude",
         "rawType": "float64",
         "type": "float"
        },
        {
         "name": "Longtitude",
         "rawType": "float64",
         "type": "float"
        },
        {
         "name": "Regionname",
         "rawType": "object",
         "type": "string"
        },
        {
         "name": "Propertycount",
         "rawType": "float64",
         "type": "float"
        },
        {
         "name": "ParkingArea",
         "rawType": "object",
         "type": "string"
        },
        {
         "name": "Price",
         "rawType": "float64",
         "type": "float"
        }
       ],
       "ref": "c6cc6568-bcf8-4227-9b1f-ae8d1300bad8",
       "rows": [
        [
         "0",
         "Abbotsford",
         "68 Studley St",
         "2",
         "h",
         "SS",
         "Jellis",
         "3/9/2016",
         "2.5",
         "3067.0",
         "2.0",
         "1.0",
         "1.0",
         "126.0",
         "inf",
         null,
         "Yarra City Council",
         "-37.8014",
         "144.9958",
         "Northern Metropolitan",
         "4019.0",
         "Carport",
         null
        ],
        [
         "1",
         "Airport West",
         "154 Halsey Rd",
         "3",
         "t",
         "PI",
         "Nelson",
         "3/9/2016",
         "13.5",
         "3042.0",
         "3.0",
         "2.0",
         "1.0",
         "303.0",
         "225",
         "2016.0",
         "Moonee Valley City Council",
         "-37.718",
         "144.878",
         "Western Metropolitan",
         "3464.0",
         "Detached Garage",
         "840000.0"
        ],
        [
         "2",
         "Albert Park",
         "105 Kerferd Rd",
         "2",
         "h",
         "S",
         "hockingstuart",
         "3/9/2016",
         "3.3",
         "3206.0",
         "2.0",
         "1.0",
         "0.0",
         "120.0",
         "82",
         "1900.0",
         "Port Phillip City Council",
         "-37.8459",
         "144.9555",
         "Southern Metropolitan",
         "3280.0",
         "Attached Garage",
         "1275000.0"
        ],
        [
         "3",
         "Albert Park",
         "85 Richardson St",
         "2",
         "h",
         "S",
         "Thomson",
         "3/9/2016",
         "3.3",
         "3206.0",
         "2.0",
         "1.0",
         "0.0",
         "159.0",
         "inf",
         null,
         "Port Phillip City Council",
         "-37.845",
         "144.9538",
         "Southern Metropolitan",
         "3280.0",
         "Indoor",
         "1455000.0"
        ],
        [
         "4",
         "Alphington",
         "30 Austin St",
         "3",
         "h",
         "SN",
         "McGrath",
         "3/9/2016",
         "6.4",
         "3078.0",
         "3.0",
         "2.0",
         "1.0",
         "174.0",
         "122",
         "2003.0",
         "Darebin City Council",
         "-37.7818",
         "145.0198",
         "Northern Metropolitan",
         "2211.0",
         "Parkade",
         null
        ]
       ],
       "shape": {
        "columns": 22,
        "rows": 5
       }
      },
      "text/html": [
       "<div>\n",
       "<style scoped>\n",
       "    .dataframe tbody tr th:only-of-type {\n",
       "        vertical-align: middle;\n",
       "    }\n",
       "\n",
       "    .dataframe tbody tr th {\n",
       "        vertical-align: top;\n",
       "    }\n",
       "\n",
       "    .dataframe thead th {\n",
       "        text-align: right;\n",
       "    }\n",
       "</style>\n",
       "<table border=\"1\" class=\"dataframe\">\n",
       "  <thead>\n",
       "    <tr style=\"text-align: right;\">\n",
       "      <th></th>\n",
       "      <th>Suburb</th>\n",
       "      <th>Address</th>\n",
       "      <th>Rooms</th>\n",
       "      <th>Type</th>\n",
       "      <th>Method</th>\n",
       "      <th>SellerG</th>\n",
       "      <th>Date</th>\n",
       "      <th>Distance</th>\n",
       "      <th>Postcode</th>\n",
       "      <th>Bedroom</th>\n",
       "      <th>...</th>\n",
       "      <th>Landsize</th>\n",
       "      <th>BuildingArea</th>\n",
       "      <th>YearBuilt</th>\n",
       "      <th>CouncilArea</th>\n",
       "      <th>Latitude</th>\n",
       "      <th>Longtitude</th>\n",
       "      <th>Regionname</th>\n",
       "      <th>Propertycount</th>\n",
       "      <th>ParkingArea</th>\n",
       "      <th>Price</th>\n",
       "    </tr>\n",
       "  </thead>\n",
       "  <tbody>\n",
       "    <tr>\n",
       "      <th>0</th>\n",
       "      <td>Abbotsford</td>\n",
       "      <td>68 Studley St</td>\n",
       "      <td>2</td>\n",
       "      <td>h</td>\n",
       "      <td>SS</td>\n",
       "      <td>Jellis</td>\n",
       "      <td>3/9/2016</td>\n",
       "      <td>2.5</td>\n",
       "      <td>3067.0</td>\n",
       "      <td>2.0</td>\n",
       "      <td>...</td>\n",
       "      <td>126.0</td>\n",
       "      <td>inf</td>\n",
       "      <td>NaN</td>\n",
       "      <td>Yarra City Council</td>\n",
       "      <td>-37.8014</td>\n",
       "      <td>144.9958</td>\n",
       "      <td>Northern Metropolitan</td>\n",
       "      <td>4019.0</td>\n",
       "      <td>Carport</td>\n",
       "      <td>NaN</td>\n",
       "    </tr>\n",
       "    <tr>\n",
       "      <th>1</th>\n",
       "      <td>Airport West</td>\n",
       "      <td>154 Halsey Rd</td>\n",
       "      <td>3</td>\n",
       "      <td>t</td>\n",
       "      <td>PI</td>\n",
       "      <td>Nelson</td>\n",
       "      <td>3/9/2016</td>\n",
       "      <td>13.5</td>\n",
       "      <td>3042.0</td>\n",
       "      <td>3.0</td>\n",
       "      <td>...</td>\n",
       "      <td>303.0</td>\n",
       "      <td>225</td>\n",
       "      <td>2016.0</td>\n",
       "      <td>Moonee Valley City Council</td>\n",
       "      <td>-37.7180</td>\n",
       "      <td>144.8780</td>\n",
       "      <td>Western Metropolitan</td>\n",
       "      <td>3464.0</td>\n",
       "      <td>Detached Garage</td>\n",
       "      <td>840000.0</td>\n",
       "    </tr>\n",
       "    <tr>\n",
       "      <th>2</th>\n",
       "      <td>Albert Park</td>\n",
       "      <td>105 Kerferd Rd</td>\n",
       "      <td>2</td>\n",
       "      <td>h</td>\n",
       "      <td>S</td>\n",
       "      <td>hockingstuart</td>\n",
       "      <td>3/9/2016</td>\n",
       "      <td>3.3</td>\n",
       "      <td>3206.0</td>\n",
       "      <td>2.0</td>\n",
       "      <td>...</td>\n",
       "      <td>120.0</td>\n",
       "      <td>82</td>\n",
       "      <td>1900.0</td>\n",
       "      <td>Port Phillip City Council</td>\n",
       "      <td>-37.8459</td>\n",
       "      <td>144.9555</td>\n",
       "      <td>Southern Metropolitan</td>\n",
       "      <td>3280.0</td>\n",
       "      <td>Attached Garage</td>\n",
       "      <td>1275000.0</td>\n",
       "    </tr>\n",
       "    <tr>\n",
       "      <th>3</th>\n",
       "      <td>Albert Park</td>\n",
       "      <td>85 Richardson St</td>\n",
       "      <td>2</td>\n",
       "      <td>h</td>\n",
       "      <td>S</td>\n",
       "      <td>Thomson</td>\n",
       "      <td>3/9/2016</td>\n",
       "      <td>3.3</td>\n",
       "      <td>3206.0</td>\n",
       "      <td>2.0</td>\n",
       "      <td>...</td>\n",
       "      <td>159.0</td>\n",
       "      <td>inf</td>\n",
       "      <td>NaN</td>\n",
       "      <td>Port Phillip City Council</td>\n",
       "      <td>-37.8450</td>\n",
       "      <td>144.9538</td>\n",
       "      <td>Southern Metropolitan</td>\n",
       "      <td>3280.0</td>\n",
       "      <td>Indoor</td>\n",
       "      <td>1455000.0</td>\n",
       "    </tr>\n",
       "    <tr>\n",
       "      <th>4</th>\n",
       "      <td>Alphington</td>\n",
       "      <td>30 Austin St</td>\n",
       "      <td>3</td>\n",
       "      <td>h</td>\n",
       "      <td>SN</td>\n",
       "      <td>McGrath</td>\n",
       "      <td>3/9/2016</td>\n",
       "      <td>6.4</td>\n",
       "      <td>3078.0</td>\n",
       "      <td>3.0</td>\n",
       "      <td>...</td>\n",
       "      <td>174.0</td>\n",
       "      <td>122</td>\n",
       "      <td>2003.0</td>\n",
       "      <td>Darebin City Council</td>\n",
       "      <td>-37.7818</td>\n",
       "      <td>145.0198</td>\n",
       "      <td>Northern Metropolitan</td>\n",
       "      <td>2211.0</td>\n",
       "      <td>Parkade</td>\n",
       "      <td>NaN</td>\n",
       "    </tr>\n",
       "  </tbody>\n",
       "</table>\n",
       "<p>5 rows × 22 columns</p>\n",
       "</div>"
      ],
      "text/plain": [
       "         Suburb           Address  Rooms Type Method        SellerG      Date  \\\n",
       "0    Abbotsford     68 Studley St      2    h     SS         Jellis  3/9/2016   \n",
       "1  Airport West     154 Halsey Rd      3    t     PI         Nelson  3/9/2016   \n",
       "2   Albert Park    105 Kerferd Rd      2    h      S  hockingstuart  3/9/2016   \n",
       "3   Albert Park  85 Richardson St      2    h      S        Thomson  3/9/2016   \n",
       "4    Alphington      30 Austin St      3    h     SN        McGrath  3/9/2016   \n",
       "\n",
       "   Distance  Postcode  Bedroom  ...  Landsize  BuildingArea  YearBuilt  \\\n",
       "0       2.5    3067.0      2.0  ...     126.0           inf        NaN   \n",
       "1      13.5    3042.0      3.0  ...     303.0           225     2016.0   \n",
       "2       3.3    3206.0      2.0  ...     120.0            82     1900.0   \n",
       "3       3.3    3206.0      2.0  ...     159.0           inf        NaN   \n",
       "4       6.4    3078.0      3.0  ...     174.0           122     2003.0   \n",
       "\n",
       "                  CouncilArea  Latitude Longtitude             Regionname  \\\n",
       "0          Yarra City Council  -37.8014   144.9958  Northern Metropolitan   \n",
       "1  Moonee Valley City Council  -37.7180   144.8780   Western Metropolitan   \n",
       "2   Port Phillip City Council  -37.8459   144.9555  Southern Metropolitan   \n",
       "3   Port Phillip City Council  -37.8450   144.9538  Southern Metropolitan   \n",
       "4        Darebin City Council  -37.7818   145.0198  Northern Metropolitan   \n",
       "\n",
       "   Propertycount      ParkingArea      Price  \n",
       "0         4019.0          Carport        NaN  \n",
       "1         3464.0  Detached Garage   840000.0  \n",
       "2         3280.0  Attached Garage  1275000.0  \n",
       "3         3280.0           Indoor  1455000.0  \n",
       "4         2211.0          Parkade        NaN  \n",
       "\n",
       "[5 rows x 22 columns]"
      ]
     },
     "execution_count": 4,
     "metadata": {},
     "output_type": "execute_result"
    }
   ],
   "source": [
    "# Import pandas and load the dataset\n",
    "import pandas as pd\n",
    "data = pd.read_csv('melb_data.csv')\n",
    "data.head()"
   ]
  },
  {
   "cell_type": "code",
   "execution_count": 5,
   "id": "955b4dcf",
   "metadata": {},
   "outputs": [
    {
     "data": {
      "application/vnd.microsoft.datawrangler.viewer.v0+json": {
       "columns": [
        {
         "name": "index",
         "rawType": "object",
         "type": "string"
        },
        {
         "name": "0",
         "rawType": "int64",
         "type": "integer"
        }
       ],
       "ref": "eaa30063-e6d4-4f2d-912c-0f870511a70f",
       "rows": [
        [
         "Suburb",
         "0"
        ],
        [
         "Address",
         "0"
        ],
        [
         "Rooms",
         "0"
        ],
        [
         "Type",
         "0"
        ],
        [
         "Method",
         "0"
        ],
        [
         "SellerG",
         "0"
        ],
        [
         "Date",
         "0"
        ],
        [
         "Distance",
         "1"
        ],
        [
         "Postcode",
         "1"
        ],
        [
         "Bedroom",
         "8217"
        ],
        [
         "Bathroom",
         "8226"
        ],
        [
         "Car",
         "8728"
        ],
        [
         "Landsize",
         "11810"
        ],
        [
         "BuildingArea",
         "21097"
        ],
        [
         "YearBuilt",
         "19306"
        ],
        [
         "CouncilArea",
         "3"
        ],
        [
         "Latitude",
         "7976"
        ],
        [
         "Longtitude",
         "7976"
        ],
        [
         "Regionname",
         "0"
        ],
        [
         "Propertycount",
         "3"
        ],
        [
         "ParkingArea",
         "0"
        ],
        [
         "Price",
         "7610"
        ]
       ],
       "shape": {
        "columns": 1,
        "rows": 22
       }
      },
      "text/plain": [
       "Suburb               0\n",
       "Address              0\n",
       "Rooms                0\n",
       "Type                 0\n",
       "Method               0\n",
       "SellerG              0\n",
       "Date                 0\n",
       "Distance             1\n",
       "Postcode             1\n",
       "Bedroom           8217\n",
       "Bathroom          8226\n",
       "Car               8728\n",
       "Landsize         11810\n",
       "BuildingArea     21097\n",
       "YearBuilt        19306\n",
       "CouncilArea          3\n",
       "Latitude          7976\n",
       "Longtitude        7976\n",
       "Regionname           0\n",
       "Propertycount        3\n",
       "ParkingArea          0\n",
       "Price             7610\n",
       "dtype: int64"
      ]
     },
     "execution_count": 5,
     "metadata": {},
     "output_type": "execute_result"
    }
   ],
   "source": [
    "# Show basic statistics for numeric columns\n",
    "data.describe()\n",
    "# Check for missing values in each column\n",
    "data.isnull().sum()"
   ]
  },
  {
   "cell_type": "code",
   "execution_count": 6,
   "id": "d3bc7378",
   "metadata": {},
   "outputs": [
    {
     "data": {
      "application/vnd.microsoft.datawrangler.viewer.v0+json": {
       "columns": [
        {
         "name": "index",
         "rawType": "object",
         "type": "string"
        },
        {
         "name": "0",
         "rawType": "int64",
         "type": "integer"
        }
       ],
       "ref": "aa46c5df-43cb-4972-badc-9b524bf8fb0a",
       "rows": [
        [
         "Suburb",
         "0"
        ],
        [
         "Address",
         "0"
        ],
        [
         "Rooms",
         "0"
        ],
        [
         "Type",
         "0"
        ],
        [
         "Method",
         "0"
        ],
        [
         "SellerG",
         "0"
        ],
        [
         "Date",
         "0"
        ],
        [
         "Distance",
         "0"
        ],
        [
         "Postcode",
         "0"
        ],
        [
         "Bedroom",
         "0"
        ],
        [
         "Bathroom",
         "0"
        ],
        [
         "Car",
         "0"
        ],
        [
         "Landsize",
         "0"
        ],
        [
         "BuildingArea",
         "21097"
        ],
        [
         "YearBuilt",
         "0"
        ],
        [
         "CouncilArea",
         "3"
        ],
        [
         "Latitude",
         "0"
        ],
        [
         "Longtitude",
         "0"
        ],
        [
         "Regionname",
         "0"
        ],
        [
         "Propertycount",
         "0"
        ],
        [
         "ParkingArea",
         "0"
        ],
        [
         "Price",
         "0"
        ]
       ],
       "shape": {
        "columns": 1,
        "rows": 22
       }
      },
      "text/plain": [
       "Suburb               0\n",
       "Address              0\n",
       "Rooms                0\n",
       "Type                 0\n",
       "Method               0\n",
       "SellerG              0\n",
       "Date                 0\n",
       "Distance             0\n",
       "Postcode             0\n",
       "Bedroom              0\n",
       "Bathroom             0\n",
       "Car                  0\n",
       "Landsize             0\n",
       "BuildingArea     21097\n",
       "YearBuilt            0\n",
       "CouncilArea          3\n",
       "Latitude             0\n",
       "Longtitude           0\n",
       "Regionname           0\n",
       "Propertycount        0\n",
       "ParkingArea          0\n",
       "Price                0\n",
       "dtype: int64"
      ]
     },
     "execution_count": 6,
     "metadata": {},
     "output_type": "execute_result"
    }
   ],
   "source": [
    "# Fill missing values in numeric columns with the mean\n",
    "num_cols = data.select_dtypes(include=['int64', 'float64']).columns\n",
    "data[num_cols] = data[num_cols].fillna(data[num_cols].mean())\n",
    "# Check again for missing values\n",
    "data.isnull().sum()"
   ]
  }
 ],
 "metadata": {
  "kernelspec": {
   "display_name": ".venv",
   "language": "python",
   "name": "python3"
  },
  "language_info": {
   "codemirror_mode": {
    "name": "ipython",
    "version": 3
   },
   "file_extension": ".py",
   "mimetype": "text/x-python",
   "name": "python",
   "nbconvert_exporter": "python",
   "pygments_lexer": "ipython3",
   "version": "3.13.6"
  }
 },
 "nbformat": 4,
 "nbformat_minor": 5
}
